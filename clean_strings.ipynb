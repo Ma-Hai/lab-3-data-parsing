{
 "cells": [
  {
   "cell_type": "markdown",
   "id": "3f89111f",
   "metadata": {},
   "source": [
    "# TASK A: Load data"
   ]
  },
  {
   "cell_type": "code",
   "execution_count": 9,
   "id": "c4167148",
   "metadata": {},
   "outputs": [
    {
     "name": "stdout",
     "output_type": "stream",
     "text": [
      "             raw\n",
      "0           BOB(\n",
      "1        dana~  \n",
      "2          {EVE/\n",
      "3      \"ALICE   \n",
      "4            BOB\n",
      "5           DANA\n",
      "6        CHARLIE\n",
      "7       alice   \n",
      "8          FRANK\n",
      "9            bob\n",
      "10           eve\n",
      "11        \\dana'\n",
      "12           EVE\n",
      "13      CHARLIE \n",
      "14          -eve\n",
      "15        bob   \n",
      "16           EVE\n",
      "17     .FRANK   \n",
      "18          eve \n",
      "19           EVE\n",
      "20          BOB&\n",
      "21      charlie\"\n",
      "22    ,charlie  \n",
      "23         EVE  \n",
      "24         ]dana\n",
      "25     charlie  \n",
      "26        alice+\n",
      "27         EVE{ \n",
      "28          DANA\n",
      "29       frank  \n",
      "30      CHARLIE!\n",
      "31      |ALICE# \n",
      "32           BOB\n",
      "33        frank^\n",
      "34         alice\n",
      "35          'bob\n",
      "36       CHARLIE\n",
      "37         eve+ \n",
      "38      CHARLIE \n",
      "39       charlie\n",
      "40         dana#\n",
      "41       DANA   \n",
      "42          dana\n",
      "43       CHARLIE\n",
      "44    =charlie! \n",
      "45        bob   \n",
      "46           bob\n",
      "47       ;EVE   \n",
      "48    =charlie  \n",
      "49          dana\n"
     ]
    }
   ],
   "source": [
    "import pandas as pd\n",
    "df_raw = pd.read_csv('messy_strings.csv')\n",
    "print(df_raw)"
   ]
  },
  {
   "cell_type": "code",
   "execution_count": null,
   "id": "ceeb00ca",
   "metadata": {},
   "outputs": [],
   "source": []
  }
 ],
 "metadata": {
  "kernelspec": {
   "display_name": "Python 3",
   "language": "python",
   "name": "python3"
  },
  "language_info": {
   "codemirror_mode": {
    "name": "ipython",
    "version": 3
   },
   "file_extension": ".py",
   "mimetype": "text/x-python",
   "name": "python",
   "nbconvert_exporter": "python",
   "pygments_lexer": "ipython3",
   "version": "3.11.9"
  }
 },
 "nbformat": 4,
 "nbformat_minor": 5
}
